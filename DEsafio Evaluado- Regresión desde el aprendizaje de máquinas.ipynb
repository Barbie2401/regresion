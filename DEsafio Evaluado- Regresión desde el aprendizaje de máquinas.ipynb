{
 "cells": [
  {
   "cell_type": "markdown",
   "id": "bdf6373b",
   "metadata": {},
   "source": [
    "# <center><font color='MediumSeaGreen'>Desafío - Regresión desde el aprendizaje de máquinas </font><center>\n",
    "\n",
    "### <center><b> Bárbara Pérez </b><center>"
   ]
  },
  {
   "cell_type": "markdown",
   "id": "854be53d",
   "metadata": {},
   "source": [
    "_________"
   ]
  },
  {
   "cell_type": "markdown",
   "id": "ff75a785",
   "metadata": {},
   "source": [
    "## <font color='MediumSeaGreen'>Descripción</font>"
   ]
  },
  {
   "cell_type": "markdown",
   "id": "8840a8e7",
   "metadata": {},
   "source": [
    "Una consultora internacional radicada en EEUU está buscando analistas, por lo que han diseñado una prueba que permita poder seleccionar a quienes cuenten con las habilidades necesarias para crear modelación estadística. Para ello, ponen a disposición de los interesados una base de datos sobre los precios de las viviendas en Boston, utilizada en el paper Harrison Jr, D., & Rubinfeld, D. L. (1978). Hedonic housing prices and the demand for clean air. Journal of environmental economics and management, 5(1), 81-102.\n",
    "\n",
    "El objetivo del ejercicio de captación de talento es desarrollar un modelo predictivo para el valor mediano de las casas mediante el entrenamiento de un modelo de regresión lineal.\n"
   ]
  },
  {
   "cell_type": "markdown",
   "id": "92a1dc3d",
   "metadata": {},
   "source": [
    "● <span style='background:gainsboro'><font color='dimgray'>crim</font></span> : Tasa de criminalidad por sector de Boston.\n",
    "\n",
    "● <span style='background:gainsboro'><font color='dimgray'>zn</font></span> :proporción de terreno residencial asignado para terrenos baldíos.\n",
    "\n",
    "● <span style='background:gainsboro'><font color='dimgray'>indus</font></span>: proporción de negocios no asociados al comercio por sector.\n",
    "\n",
    "● <span style='background:gainsboro'><font color='dimgray'>chas</font></span>: Dummy. 1 si el sector colinda con el río Charles, 0 de lo contrario.\n",
    "\n",
    "● <span style='background:gainsboro'><font color='dimgray'>nox</font></span>: Concentración de dióxido de carbono.\n",
    "\n",
    "● <span style='background:gainsboro'><font color='dimgray'>rm</font></span>: cantidad promedio de habitaciones por casa.\n",
    "\n",
    "● <span style='background:gainsboro'><font color='dimgray'>age</font></span>: proporción de casas construidas antes de 1940.\n",
    "\n",
    "● <span style='background:gainsboro'><font color='dimgray'>dis</font></span> : distancia promedio a cinco centros de empleos.\n",
    "\n",
    "● <span style='background:gainsboro'><font color='dimgray'>rad</font></span>: índice de accesibilidad a autopistas.\n",
    "\n",
    "● <span style='background:gainsboro'><font color='dimgray'>tax</font></span>: nivel de impuestos asociados a viviendas.\n",
    "\n",
    "● <span style='background:gainsboro'><font color='dimgray'>ptratio</font></span>: razón alumno:profesor por sector de Boston.\n",
    "\n",
    "● <span style='background:gainsboro'><font color='dimgray'>black</font></span>: proporción de afroamericanos por sector de Boston.\n",
    "\n",
    "● <span style='background:gainsboro'><font color='dimgray'>lstat</font></span>: porcentaje de población de estratos bajos.\n",
    "\n",
    "● <span style='background:gainsboro'><font color='dimgray'>medv</font></span>: valor mediano de las casas."
   ]
  },
  {
   "cell_type": "markdown",
   "id": "d0f23e2c",
   "metadata": {},
   "source": [
    "____________"
   ]
  },
  {
   "cell_type": "markdown",
   "id": "a94164d3",
   "metadata": {},
   "source": [
    "## <font color='MediumSeaGreen'>Requerimientos</font> "
   ]
  },
  {
   "cell_type": "markdown",
   "id": "395420f8",
   "metadata": {},
   "source": [
    "A continuación revisaremos los requerimientos y acciones que la empresa a la cual postulas te pide realizar."
   ]
  },
  {
   "cell_type": "markdown",
   "id": "c9350fdb",
   "metadata": {},
   "source": [
    "<b><font color='MediumSeaGreen'>1.</font> Preparar el ambiente de trabajo (1 puntos)</b>"
   ]
  },
  {
   "cell_type": "markdown",
   "id": "12bed52f",
   "metadata": {},
   "source": [
    "● Importe las librerías básicas para el análisis de datos.\n",
    "\n",
    "● Importe el módulo *linear_model* , y las funciones *mean_squared_error* , *r2_score* y *train_test_split* .\n",
    "\n",
    "● Importe la base de datos *boston.csv* y elimine la columna *Unnamed: 0* .\n",
    "    \n",
    "● Obtenga las medidas descriptivas de la base de datos con *.describe()* .\n"
   ]
  },
  {
   "cell_type": "code",
   "execution_count": 1,
   "id": "f68deaee",
   "metadata": {},
   "outputs": [],
   "source": [
    "#Importar librerias \n",
    "import pandas as pd\n",
    "import numpy as np\n",
    "import seaborn as sns\n",
    "import matplotlib.pyplot as plt\n",
    "import scipy.stats as stats\n",
    "import statsmodels.formula.api as smf\n",
    "import seaborn as sns\n",
    "import matplotlib.pyplot as plt"
   ]
  },
  {
   "cell_type": "code",
   "execution_count": 2,
   "id": "81b5f716",
   "metadata": {},
   "outputs": [],
   "source": [
    "#Importar módulo linear_model , y las funciones mean_squared_error , r2_score y train_test_split .\n",
    "\n",
    "from sklearn import linear_model\n",
    "from sklearn.metrics import mean_squared_error\n",
    "from sklearn.metrics import r2_score\n",
    "from sklearn.model_selection import train_test_split"
   ]
  },
  {
   "cell_type": "code",
   "execution_count": 3,
   "id": "7ee67989",
   "metadata": {},
   "outputs": [],
   "source": [
    "#Importar dataframe\n",
    "df= pd.read_csv('boston.csv')"
   ]
  },
  {
   "cell_type": "code",
   "execution_count": 4,
   "id": "9d900bc6",
   "metadata": {
    "scrolled": true
   },
   "outputs": [
    {
     "data": {
      "text/html": [
       "<div>\n",
       "<style scoped>\n",
       "    .dataframe tbody tr th:only-of-type {\n",
       "        vertical-align: middle;\n",
       "    }\n",
       "\n",
       "    .dataframe tbody tr th {\n",
       "        vertical-align: top;\n",
       "    }\n",
       "\n",
       "    .dataframe thead th {\n",
       "        text-align: right;\n",
       "    }\n",
       "</style>\n",
       "<table border=\"1\" class=\"dataframe\">\n",
       "  <thead>\n",
       "    <tr style=\"text-align: right;\">\n",
       "      <th></th>\n",
       "      <th>Unnamed: 0</th>\n",
       "      <th>crim</th>\n",
       "      <th>zn</th>\n",
       "      <th>indus</th>\n",
       "      <th>chas</th>\n",
       "      <th>nox</th>\n",
       "      <th>rm</th>\n",
       "      <th>age</th>\n",
       "      <th>dis</th>\n",
       "      <th>rad</th>\n",
       "      <th>tax</th>\n",
       "      <th>ptratio</th>\n",
       "      <th>black</th>\n",
       "      <th>lstat</th>\n",
       "      <th>medv</th>\n",
       "    </tr>\n",
       "  </thead>\n",
       "  <tbody>\n",
       "    <tr>\n",
       "      <th>0</th>\n",
       "      <td>1</td>\n",
       "      <td>0.00632</td>\n",
       "      <td>18.0</td>\n",
       "      <td>2.31</td>\n",
       "      <td>0</td>\n",
       "      <td>0.538</td>\n",
       "      <td>6.575</td>\n",
       "      <td>65.2</td>\n",
       "      <td>4.0900</td>\n",
       "      <td>1</td>\n",
       "      <td>296</td>\n",
       "      <td>15.3</td>\n",
       "      <td>396.90</td>\n",
       "      <td>4.98</td>\n",
       "      <td>24.0</td>\n",
       "    </tr>\n",
       "    <tr>\n",
       "      <th>1</th>\n",
       "      <td>2</td>\n",
       "      <td>0.02731</td>\n",
       "      <td>0.0</td>\n",
       "      <td>7.07</td>\n",
       "      <td>0</td>\n",
       "      <td>0.469</td>\n",
       "      <td>6.421</td>\n",
       "      <td>78.9</td>\n",
       "      <td>4.9671</td>\n",
       "      <td>2</td>\n",
       "      <td>242</td>\n",
       "      <td>17.8</td>\n",
       "      <td>396.90</td>\n",
       "      <td>9.14</td>\n",
       "      <td>21.6</td>\n",
       "    </tr>\n",
       "    <tr>\n",
       "      <th>2</th>\n",
       "      <td>3</td>\n",
       "      <td>0.02729</td>\n",
       "      <td>0.0</td>\n",
       "      <td>7.07</td>\n",
       "      <td>0</td>\n",
       "      <td>0.469</td>\n",
       "      <td>7.185</td>\n",
       "      <td>61.1</td>\n",
       "      <td>4.9671</td>\n",
       "      <td>2</td>\n",
       "      <td>242</td>\n",
       "      <td>17.8</td>\n",
       "      <td>392.83</td>\n",
       "      <td>4.03</td>\n",
       "      <td>34.7</td>\n",
       "    </tr>\n",
       "    <tr>\n",
       "      <th>3</th>\n",
       "      <td>4</td>\n",
       "      <td>0.03237</td>\n",
       "      <td>0.0</td>\n",
       "      <td>2.18</td>\n",
       "      <td>0</td>\n",
       "      <td>0.458</td>\n",
       "      <td>6.998</td>\n",
       "      <td>45.8</td>\n",
       "      <td>6.0622</td>\n",
       "      <td>3</td>\n",
       "      <td>222</td>\n",
       "      <td>18.7</td>\n",
       "      <td>394.63</td>\n",
       "      <td>2.94</td>\n",
       "      <td>33.4</td>\n",
       "    </tr>\n",
       "    <tr>\n",
       "      <th>4</th>\n",
       "      <td>5</td>\n",
       "      <td>0.06905</td>\n",
       "      <td>0.0</td>\n",
       "      <td>2.18</td>\n",
       "      <td>0</td>\n",
       "      <td>0.458</td>\n",
       "      <td>7.147</td>\n",
       "      <td>54.2</td>\n",
       "      <td>6.0622</td>\n",
       "      <td>3</td>\n",
       "      <td>222</td>\n",
       "      <td>18.7</td>\n",
       "      <td>396.90</td>\n",
       "      <td>5.33</td>\n",
       "      <td>36.2</td>\n",
       "    </tr>\n",
       "  </tbody>\n",
       "</table>\n",
       "</div>"
      ],
      "text/plain": [
       "   Unnamed: 0     crim    zn  indus  chas    nox     rm   age     dis  rad  \\\n",
       "0           1  0.00632  18.0   2.31     0  0.538  6.575  65.2  4.0900    1   \n",
       "1           2  0.02731   0.0   7.07     0  0.469  6.421  78.9  4.9671    2   \n",
       "2           3  0.02729   0.0   7.07     0  0.469  7.185  61.1  4.9671    2   \n",
       "3           4  0.03237   0.0   2.18     0  0.458  6.998  45.8  6.0622    3   \n",
       "4           5  0.06905   0.0   2.18     0  0.458  7.147  54.2  6.0622    3   \n",
       "\n",
       "   tax  ptratio   black  lstat  medv  \n",
       "0  296     15.3  396.90   4.98  24.0  \n",
       "1  242     17.8  396.90   9.14  21.6  \n",
       "2  242     17.8  392.83   4.03  34.7  \n",
       "3  222     18.7  394.63   2.94  33.4  \n",
       "4  222     18.7  396.90   5.33  36.2  "
      ]
     },
     "execution_count": 4,
     "metadata": {},
     "output_type": "execute_result"
    }
   ],
   "source": [
    "#Reviso el dataframe\n",
    "df.head()"
   ]
  },
  {
   "cell_type": "code",
   "execution_count": 5,
   "id": "4943a555",
   "metadata": {},
   "outputs": [],
   "source": [
    "#elimine la columna Unnamed: 0 .\n",
    "df = df.drop(columns='Unnamed: 0', axis=1)"
   ]
  },
  {
   "cell_type": "code",
   "execution_count": 6,
   "id": "a9c22a78",
   "metadata": {},
   "outputs": [
    {
     "data": {
      "text/html": [
       "<div>\n",
       "<style scoped>\n",
       "    .dataframe tbody tr th:only-of-type {\n",
       "        vertical-align: middle;\n",
       "    }\n",
       "\n",
       "    .dataframe tbody tr th {\n",
       "        vertical-align: top;\n",
       "    }\n",
       "\n",
       "    .dataframe thead th {\n",
       "        text-align: right;\n",
       "    }\n",
       "</style>\n",
       "<table border=\"1\" class=\"dataframe\">\n",
       "  <thead>\n",
       "    <tr style=\"text-align: right;\">\n",
       "      <th></th>\n",
       "      <th>crim</th>\n",
       "      <th>zn</th>\n",
       "      <th>indus</th>\n",
       "      <th>chas</th>\n",
       "      <th>nox</th>\n",
       "      <th>rm</th>\n",
       "      <th>age</th>\n",
       "      <th>dis</th>\n",
       "      <th>rad</th>\n",
       "      <th>tax</th>\n",
       "      <th>ptratio</th>\n",
       "      <th>black</th>\n",
       "      <th>lstat</th>\n",
       "      <th>medv</th>\n",
       "    </tr>\n",
       "  </thead>\n",
       "  <tbody>\n",
       "    <tr>\n",
       "      <th>0</th>\n",
       "      <td>0.00632</td>\n",
       "      <td>18.0</td>\n",
       "      <td>2.31</td>\n",
       "      <td>0</td>\n",
       "      <td>0.538</td>\n",
       "      <td>6.575</td>\n",
       "      <td>65.2</td>\n",
       "      <td>4.0900</td>\n",
       "      <td>1</td>\n",
       "      <td>296</td>\n",
       "      <td>15.3</td>\n",
       "      <td>396.90</td>\n",
       "      <td>4.98</td>\n",
       "      <td>24.0</td>\n",
       "    </tr>\n",
       "    <tr>\n",
       "      <th>1</th>\n",
       "      <td>0.02731</td>\n",
       "      <td>0.0</td>\n",
       "      <td>7.07</td>\n",
       "      <td>0</td>\n",
       "      <td>0.469</td>\n",
       "      <td>6.421</td>\n",
       "      <td>78.9</td>\n",
       "      <td>4.9671</td>\n",
       "      <td>2</td>\n",
       "      <td>242</td>\n",
       "      <td>17.8</td>\n",
       "      <td>396.90</td>\n",
       "      <td>9.14</td>\n",
       "      <td>21.6</td>\n",
       "    </tr>\n",
       "    <tr>\n",
       "      <th>2</th>\n",
       "      <td>0.02729</td>\n",
       "      <td>0.0</td>\n",
       "      <td>7.07</td>\n",
       "      <td>0</td>\n",
       "      <td>0.469</td>\n",
       "      <td>7.185</td>\n",
       "      <td>61.1</td>\n",
       "      <td>4.9671</td>\n",
       "      <td>2</td>\n",
       "      <td>242</td>\n",
       "      <td>17.8</td>\n",
       "      <td>392.83</td>\n",
       "      <td>4.03</td>\n",
       "      <td>34.7</td>\n",
       "    </tr>\n",
       "    <tr>\n",
       "      <th>3</th>\n",
       "      <td>0.03237</td>\n",
       "      <td>0.0</td>\n",
       "      <td>2.18</td>\n",
       "      <td>0</td>\n",
       "      <td>0.458</td>\n",
       "      <td>6.998</td>\n",
       "      <td>45.8</td>\n",
       "      <td>6.0622</td>\n",
       "      <td>3</td>\n",
       "      <td>222</td>\n",
       "      <td>18.7</td>\n",
       "      <td>394.63</td>\n",
       "      <td>2.94</td>\n",
       "      <td>33.4</td>\n",
       "    </tr>\n",
       "    <tr>\n",
       "      <th>4</th>\n",
       "      <td>0.06905</td>\n",
       "      <td>0.0</td>\n",
       "      <td>2.18</td>\n",
       "      <td>0</td>\n",
       "      <td>0.458</td>\n",
       "      <td>7.147</td>\n",
       "      <td>54.2</td>\n",
       "      <td>6.0622</td>\n",
       "      <td>3</td>\n",
       "      <td>222</td>\n",
       "      <td>18.7</td>\n",
       "      <td>396.90</td>\n",
       "      <td>5.33</td>\n",
       "      <td>36.2</td>\n",
       "    </tr>\n",
       "  </tbody>\n",
       "</table>\n",
       "</div>"
      ],
      "text/plain": [
       "      crim    zn  indus  chas    nox     rm   age     dis  rad  tax  ptratio  \\\n",
       "0  0.00632  18.0   2.31     0  0.538  6.575  65.2  4.0900    1  296     15.3   \n",
       "1  0.02731   0.0   7.07     0  0.469  6.421  78.9  4.9671    2  242     17.8   \n",
       "2  0.02729   0.0   7.07     0  0.469  7.185  61.1  4.9671    2  242     17.8   \n",
       "3  0.03237   0.0   2.18     0  0.458  6.998  45.8  6.0622    3  222     18.7   \n",
       "4  0.06905   0.0   2.18     0  0.458  7.147  54.2  6.0622    3  222     18.7   \n",
       "\n",
       "    black  lstat  medv  \n",
       "0  396.90   4.98  24.0  \n",
       "1  396.90   9.14  21.6  \n",
       "2  392.83   4.03  34.7  \n",
       "3  394.63   2.94  33.4  \n",
       "4  396.90   5.33  36.2  "
      ]
     },
     "execution_count": 6,
     "metadata": {},
     "output_type": "execute_result"
    }
   ],
   "source": [
    "#Revisamos los resultados de eliminar Unnamed: 0\n",
    "df.head()"
   ]
  },
  {
   "cell_type": "code",
   "execution_count": 7,
   "id": "89bc0158",
   "metadata": {},
   "outputs": [
    {
     "data": {
      "text/html": [
       "<div>\n",
       "<style scoped>\n",
       "    .dataframe tbody tr th:only-of-type {\n",
       "        vertical-align: middle;\n",
       "    }\n",
       "\n",
       "    .dataframe tbody tr th {\n",
       "        vertical-align: top;\n",
       "    }\n",
       "\n",
       "    .dataframe thead th {\n",
       "        text-align: right;\n",
       "    }\n",
       "</style>\n",
       "<table border=\"1\" class=\"dataframe\">\n",
       "  <thead>\n",
       "    <tr style=\"text-align: right;\">\n",
       "      <th></th>\n",
       "      <th>crim</th>\n",
       "      <th>zn</th>\n",
       "      <th>indus</th>\n",
       "      <th>chas</th>\n",
       "      <th>nox</th>\n",
       "      <th>rm</th>\n",
       "      <th>age</th>\n",
       "      <th>dis</th>\n",
       "      <th>rad</th>\n",
       "      <th>tax</th>\n",
       "      <th>ptratio</th>\n",
       "      <th>black</th>\n",
       "      <th>lstat</th>\n",
       "      <th>medv</th>\n",
       "    </tr>\n",
       "  </thead>\n",
       "  <tbody>\n",
       "    <tr>\n",
       "      <th>count</th>\n",
       "      <td>506.000000</td>\n",
       "      <td>506.000000</td>\n",
       "      <td>506.000000</td>\n",
       "      <td>506.000000</td>\n",
       "      <td>506.000000</td>\n",
       "      <td>506.000000</td>\n",
       "      <td>506.000000</td>\n",
       "      <td>506.000000</td>\n",
       "      <td>506.000000</td>\n",
       "      <td>506.000000</td>\n",
       "      <td>506.000000</td>\n",
       "      <td>506.000000</td>\n",
       "      <td>506.000000</td>\n",
       "      <td>506.000000</td>\n",
       "    </tr>\n",
       "    <tr>\n",
       "      <th>mean</th>\n",
       "      <td>3.613524</td>\n",
       "      <td>11.363636</td>\n",
       "      <td>11.136779</td>\n",
       "      <td>0.069170</td>\n",
       "      <td>0.554695</td>\n",
       "      <td>6.284634</td>\n",
       "      <td>68.574901</td>\n",
       "      <td>3.795043</td>\n",
       "      <td>9.549407</td>\n",
       "      <td>408.237154</td>\n",
       "      <td>18.455534</td>\n",
       "      <td>356.674032</td>\n",
       "      <td>12.653063</td>\n",
       "      <td>22.532806</td>\n",
       "    </tr>\n",
       "    <tr>\n",
       "      <th>std</th>\n",
       "      <td>8.601545</td>\n",
       "      <td>23.322453</td>\n",
       "      <td>6.860353</td>\n",
       "      <td>0.253994</td>\n",
       "      <td>0.115878</td>\n",
       "      <td>0.702617</td>\n",
       "      <td>28.148861</td>\n",
       "      <td>2.105710</td>\n",
       "      <td>8.707259</td>\n",
       "      <td>168.537116</td>\n",
       "      <td>2.164946</td>\n",
       "      <td>91.294864</td>\n",
       "      <td>7.141062</td>\n",
       "      <td>9.197104</td>\n",
       "    </tr>\n",
       "    <tr>\n",
       "      <th>min</th>\n",
       "      <td>0.006320</td>\n",
       "      <td>0.000000</td>\n",
       "      <td>0.460000</td>\n",
       "      <td>0.000000</td>\n",
       "      <td>0.385000</td>\n",
       "      <td>3.561000</td>\n",
       "      <td>2.900000</td>\n",
       "      <td>1.129600</td>\n",
       "      <td>1.000000</td>\n",
       "      <td>187.000000</td>\n",
       "      <td>12.600000</td>\n",
       "      <td>0.320000</td>\n",
       "      <td>1.730000</td>\n",
       "      <td>5.000000</td>\n",
       "    </tr>\n",
       "    <tr>\n",
       "      <th>25%</th>\n",
       "      <td>0.082045</td>\n",
       "      <td>0.000000</td>\n",
       "      <td>5.190000</td>\n",
       "      <td>0.000000</td>\n",
       "      <td>0.449000</td>\n",
       "      <td>5.885500</td>\n",
       "      <td>45.025000</td>\n",
       "      <td>2.100175</td>\n",
       "      <td>4.000000</td>\n",
       "      <td>279.000000</td>\n",
       "      <td>17.400000</td>\n",
       "      <td>375.377500</td>\n",
       "      <td>6.950000</td>\n",
       "      <td>17.025000</td>\n",
       "    </tr>\n",
       "    <tr>\n",
       "      <th>50%</th>\n",
       "      <td>0.256510</td>\n",
       "      <td>0.000000</td>\n",
       "      <td>9.690000</td>\n",
       "      <td>0.000000</td>\n",
       "      <td>0.538000</td>\n",
       "      <td>6.208500</td>\n",
       "      <td>77.500000</td>\n",
       "      <td>3.207450</td>\n",
       "      <td>5.000000</td>\n",
       "      <td>330.000000</td>\n",
       "      <td>19.050000</td>\n",
       "      <td>391.440000</td>\n",
       "      <td>11.360000</td>\n",
       "      <td>21.200000</td>\n",
       "    </tr>\n",
       "    <tr>\n",
       "      <th>75%</th>\n",
       "      <td>3.677083</td>\n",
       "      <td>12.500000</td>\n",
       "      <td>18.100000</td>\n",
       "      <td>0.000000</td>\n",
       "      <td>0.624000</td>\n",
       "      <td>6.623500</td>\n",
       "      <td>94.075000</td>\n",
       "      <td>5.188425</td>\n",
       "      <td>24.000000</td>\n",
       "      <td>666.000000</td>\n",
       "      <td>20.200000</td>\n",
       "      <td>396.225000</td>\n",
       "      <td>16.955000</td>\n",
       "      <td>25.000000</td>\n",
       "    </tr>\n",
       "    <tr>\n",
       "      <th>max</th>\n",
       "      <td>88.976200</td>\n",
       "      <td>100.000000</td>\n",
       "      <td>27.740000</td>\n",
       "      <td>1.000000</td>\n",
       "      <td>0.871000</td>\n",
       "      <td>8.780000</td>\n",
       "      <td>100.000000</td>\n",
       "      <td>12.126500</td>\n",
       "      <td>24.000000</td>\n",
       "      <td>711.000000</td>\n",
       "      <td>22.000000</td>\n",
       "      <td>396.900000</td>\n",
       "      <td>37.970000</td>\n",
       "      <td>50.000000</td>\n",
       "    </tr>\n",
       "  </tbody>\n",
       "</table>\n",
       "</div>"
      ],
      "text/plain": [
       "             crim          zn       indus        chas         nox          rm  \\\n",
       "count  506.000000  506.000000  506.000000  506.000000  506.000000  506.000000   \n",
       "mean     3.613524   11.363636   11.136779    0.069170    0.554695    6.284634   \n",
       "std      8.601545   23.322453    6.860353    0.253994    0.115878    0.702617   \n",
       "min      0.006320    0.000000    0.460000    0.000000    0.385000    3.561000   \n",
       "25%      0.082045    0.000000    5.190000    0.000000    0.449000    5.885500   \n",
       "50%      0.256510    0.000000    9.690000    0.000000    0.538000    6.208500   \n",
       "75%      3.677083   12.500000   18.100000    0.000000    0.624000    6.623500   \n",
       "max     88.976200  100.000000   27.740000    1.000000    0.871000    8.780000   \n",
       "\n",
       "              age         dis         rad         tax     ptratio       black  \\\n",
       "count  506.000000  506.000000  506.000000  506.000000  506.000000  506.000000   \n",
       "mean    68.574901    3.795043    9.549407  408.237154   18.455534  356.674032   \n",
       "std     28.148861    2.105710    8.707259  168.537116    2.164946   91.294864   \n",
       "min      2.900000    1.129600    1.000000  187.000000   12.600000    0.320000   \n",
       "25%     45.025000    2.100175    4.000000  279.000000   17.400000  375.377500   \n",
       "50%     77.500000    3.207450    5.000000  330.000000   19.050000  391.440000   \n",
       "75%     94.075000    5.188425   24.000000  666.000000   20.200000  396.225000   \n",
       "max    100.000000   12.126500   24.000000  711.000000   22.000000  396.900000   \n",
       "\n",
       "            lstat        medv  \n",
       "count  506.000000  506.000000  \n",
       "mean    12.653063   22.532806  \n",
       "std      7.141062    9.197104  \n",
       "min      1.730000    5.000000  \n",
       "25%      6.950000   17.025000  \n",
       "50%     11.360000   21.200000  \n",
       "75%     16.955000   25.000000  \n",
       "max     37.970000   50.000000  "
      ]
     },
     "execution_count": 7,
     "metadata": {},
     "output_type": "execute_result"
    }
   ],
   "source": [
    "#Obtenga las medidas descriptivas de la base de datos con .describe() \n",
    "df.describe()"
   ]
  },
  {
   "cell_type": "markdown",
   "id": "d733212c",
   "metadata": {},
   "source": [
    "____"
   ]
  },
  {
   "cell_type": "markdown",
   "id": "cbadbb16",
   "metadata": {},
   "source": [
    "<b><font color='MediumSeaGreen'>2.</font> Dividir la muestra (1 puntos)</b>\n"
   ]
  },
  {
   "cell_type": "markdown",
   "id": "2d68b7e6",
   "metadata": {},
   "source": [
    "● Genere conjuntos de entrenamiento y pruebas con *train_test_split* .\n",
    "\n",
    "● Reserve un 33% de la muestra para el conjunto de pruebas.\n",
    "\n",
    "● Incluya una semilla pseudoaleatoria a su elección, esto lo puede hacer con el\n",
    "argumento *random_state* dentro del método *train_test_plit*."
   ]
  },
  {
   "cell_type": "code",
   "execution_count": 8,
   "id": "697357be",
   "metadata": {},
   "outputs": [],
   "source": [
    "#Se realiza con la variable medv porque es el que tiene un mayor mean\n",
    "df_var_y= df['medv']\n",
    "df_var_x= df.drop(columns='medv')"
   ]
  },
  {
   "cell_type": "code",
   "execution_count": 9,
   "id": "9405715d",
   "metadata": {},
   "outputs": [],
   "source": [
    "#SE seleccionará un conjunto de datos para entrenamiento y validacion, \n",
    "#Tambien se colocoará la semilla\n",
    "x_train, x_test, y_train, y_test = train_test_split(df_var_x, df_var_y, test_size=0.33, random_state=6)"
   ]
  },
  {
   "cell_type": "code",
   "execution_count": 10,
   "id": "8cdbff14",
   "metadata": {},
   "outputs": [
    {
     "data": {
      "text/plain": [
       "pandas.core.series.Series"
      ]
     },
     "execution_count": 10,
     "metadata": {},
     "output_type": "execute_result"
    }
   ],
   "source": [
    "type(y_test)"
   ]
  },
  {
   "cell_type": "markdown",
   "id": "86da12aa",
   "metadata": {},
   "source": [
    "_______"
   ]
  },
  {
   "cell_type": "markdown",
   "id": "9e271ac5",
   "metadata": {},
   "source": [
    "<b><font color='MediumSeaGreen'>3.</font> Generar modelos (2 puntos)</b>\n"
   ]
  },
  {
   "cell_type": "markdown",
   "id": "9b90d0d2",
   "metadata": {},
   "source": [
    "● Ahora implementaremos dos versiones del modelo lineal:\n",
    "\n",
    "    ○ Con intercepto.\n",
    "    \n",
    "    ○ Sin intercepto.\n",
    "    \n",
    "● Cada versión debe generarse en un nuevo objeto inicializado.\n",
    "\n",
    "● Posteriormente se deben entrenar los modelos especificando la matriz y vector\n",
    "de entrenamiento.\n",
    "\n",
    "● Con los modelos entrenados, genere una predicción de la matriz de pruebas con\n",
    "el método *.predict()*."
   ]
  },
  {
   "cell_type": "code",
   "execution_count": 11,
   "id": "358dd2b4",
   "metadata": {},
   "outputs": [],
   "source": [
    "modelo_con_intercepto = linear_model.LinearRegression(fit_intercept=True)\n",
    "modelo_con_intercepto.fit(x_train, y_train) #ingresamos el training set\n",
    "modelo_con_intercepto_yhat = modelo_con_intercepto.predict(x_test) #Para medir el desempeño predictivo del modelo es generar nuevas predicciones en nuestra muestra de prueba"
   ]
  },
  {
   "cell_type": "code",
   "execution_count": 12,
   "id": "460d1f3e",
   "metadata": {},
   "outputs": [],
   "source": [
    "modelo_sin_intercepto = linear_model.LinearRegression(fit_intercept=False)\n",
    "modelo_sin_intercepto.fit(x_train, y_train) #ingresamos el training set\n",
    "modelo_sin_intercepto_yhat = modelo_sin_intercepto.predict(x_test) #Para medir el desempeño predictivo del modelo es generar nuevas predicciones en nuestra muestra de prueba"
   ]
  },
  {
   "cell_type": "markdown",
   "id": "7dbfde9d",
   "metadata": {},
   "source": [
    "______"
   ]
  },
  {
   "cell_type": "markdown",
   "id": "5aab8dd1",
   "metadata": {},
   "source": [
    "<b><font color='MediumSeaGreen'>4.</font> Obtención de métricas (1 puntos)</b>"
   ]
  },
  {
   "cell_type": "markdown",
   "id": "b91be37b",
   "metadata": {},
   "source": [
    "● Ahora generaremos una función llamada *report_scores* que ingrese como\n",
    "argumentos el vector de datos predichos y el vector de datos por validar.\n",
    "\n",
    "● La función debe imprimir las métricas del Error Cuadrático Promedio y R2.\n",
    "\n",
    "● Reporte las métricas para ambos modelos. En base a ello, seleccione el mejor\n",
    "modelo."
   ]
  },
  {
   "cell_type": "code",
   "execution_count": 13,
   "id": "c63eb1e1",
   "metadata": {},
   "outputs": [],
   "source": [
    "def report_scores (modelo_yhat, y_test):\n",
    "    modelo_mse = mean_squared_error(y_test, modelo_yhat).round(2)\n",
    "    modelo_r2 = r2_score(y_test, modelo_yhat).round(2)\n",
    "    print(f\"Mean Squared Error (mse): {modelo_mse}\")\n",
    "    print(f\"R-cuadrado: {modelo_r2}\")"
   ]
  },
  {
   "cell_type": "code",
   "execution_count": 14,
   "id": "955e55a6",
   "metadata": {},
   "outputs": [
    {
     "name": "stdout",
     "output_type": "stream",
     "text": [
      "Mean Squared Error (mse): 26.62\n",
      "R-cuadrado: 0.7\n"
     ]
    }
   ],
   "source": [
    "#Modelo con intercepto\n",
    "report_scores (modelo_con_intercepto_yhat, y_test)"
   ]
  },
  {
   "cell_type": "code",
   "execution_count": 15,
   "id": "ea914425",
   "metadata": {},
   "outputs": [
    {
     "name": "stdout",
     "output_type": "stream",
     "text": [
      "Mean Squared Error (mse): 28.69\n",
      "R-cuadrado: 0.68\n"
     ]
    }
   ],
   "source": [
    "#Modelo sin itnercepto\n",
    "report_scores (modelo_sin_intercepto_yhat, y_test)"
   ]
  },
  {
   "cell_type": "markdown",
   "id": "ff70b299",
   "metadata": {},
   "source": [
    "Comparando ambos modelos, el modelo con intercepto presenta un mayor R cuadrado y un menor error cuadratico (mse)"
   ]
  },
  {
   "cell_type": "markdown",
   "id": "dd90ccae",
   "metadata": {},
   "source": [
    "_________"
   ]
  },
  {
   "cell_type": "markdown",
   "id": "4033b168",
   "metadata": {},
   "source": [
    "<b><font color='MediumSeaGreen'>5.</font> Refactorización del modelo (1 puntos)</b>"
   ]
  },
  {
   "cell_type": "markdown",
   "id": "cb0d427e",
   "metadata": {},
   "source": [
    "● Genere una función llamada *fetch_features* que ingrese como argumentos la\n",
    "base de datos y el nombre del vector objetivo. El nombre del vector debe ser\n",
    "<span style='background:gainsboro'><font color='dimgray'>medv</font></span> por defecto.\n",
    "\n",
    "● La función debe retornar una lista con las correlaciones entre cada atributo y el vector objetivo y su nombre.\n",
    "\n",
    "● Reporte brevemente cuales son los 6 atributos con una mayor correlación\n",
    "absoluta con <span style='background:gainsboro'><font color='dimgray'>medv</font></span> (de mayor a menor correlación)."
   ]
  },
  {
   "cell_type": "code",
   "execution_count": 16,
   "id": "31188ae6",
   "metadata": {},
   "outputs": [],
   "source": [
    "def fetch_features (df, vector_objetivo):\n",
    "    # extraemos los nombres de las columnas en la base de datos\n",
    "    columns = list(df.columns)\n",
    "    # generamos 3 arrays vacíos para guardar los valores\n",
    "    # nombre de la variable, # correlación de pearson, #valor absoluto de la correlación\n",
    "    attr_name, pearson_r, abs_pearson_r = [], [], []\n",
    "    # para cada columna en el array de columnas\n",
    "    for col in columns:\n",
    "    # si la columna no es la dependiente\n",
    "        if col != vector_objetivo:\n",
    "        # adjuntar el nombre de la variable en attr_name\n",
    "            attr_name.append(col)\n",
    "            # adjuntar la correlación de pearson\n",
    "            pearson_r.append(df[col].corr(df[vector_objetivo]))\n",
    "            # adjuntar el absoluto de la correlación de pearson\n",
    "            abs_pearson_r.append(abs(df[col].corr(df[vector_objetivo])))\n",
    "        \n",
    "    # transformamos los arrays en un DataFrame\n",
    "    features = pd.DataFrame({\n",
    "    'attribute': attr_name,\n",
    "    'corr':pearson_r,\n",
    "    'abs_corr':abs_pearson_r\n",
    "    })\n",
    "    \n",
    "    # generamos el index con los nombres de las variables\n",
    "    features = features.set_index('attribute')\n",
    "    # ordenamos los valores de forma descendiente\n",
    "    features.sort_values('abs_corr', ascending=False)\n",
    "    \n",
    "    return features"
   ]
  },
  {
   "cell_type": "code",
   "execution_count": 17,
   "id": "e7f80345",
   "metadata": {},
   "outputs": [],
   "source": [
    "#Obtenermos el df con las correlaciones que tenga medv por defecto\n",
    "correlaciones_medv = fetch_features(df, 'medv')"
   ]
  },
  {
   "cell_type": "markdown",
   "id": "d8f1864b",
   "metadata": {},
   "source": [
    "**Reporte brevemente cuales son los 6 atributos con una mayor correlación absoluta con medv (de mayor a menor correlación).**"
   ]
  },
  {
   "cell_type": "code",
   "execution_count": 18,
   "id": "735e997a",
   "metadata": {},
   "outputs": [
    {
     "data": {
      "text/html": [
       "<div>\n",
       "<style scoped>\n",
       "    .dataframe tbody tr th:only-of-type {\n",
       "        vertical-align: middle;\n",
       "    }\n",
       "\n",
       "    .dataframe tbody tr th {\n",
       "        vertical-align: top;\n",
       "    }\n",
       "\n",
       "    .dataframe thead th {\n",
       "        text-align: right;\n",
       "    }\n",
       "</style>\n",
       "<table border=\"1\" class=\"dataframe\">\n",
       "  <thead>\n",
       "    <tr style=\"text-align: right;\">\n",
       "      <th></th>\n",
       "      <th>corr</th>\n",
       "      <th>abs_corr</th>\n",
       "    </tr>\n",
       "    <tr>\n",
       "      <th>attribute</th>\n",
       "      <th></th>\n",
       "      <th></th>\n",
       "    </tr>\n",
       "  </thead>\n",
       "  <tbody>\n",
       "    <tr>\n",
       "      <th>crim</th>\n",
       "      <td>-0.388305</td>\n",
       "      <td>0.388305</td>\n",
       "    </tr>\n",
       "    <tr>\n",
       "      <th>zn</th>\n",
       "      <td>0.360445</td>\n",
       "      <td>0.360445</td>\n",
       "    </tr>\n",
       "    <tr>\n",
       "      <th>indus</th>\n",
       "      <td>-0.483725</td>\n",
       "      <td>0.483725</td>\n",
       "    </tr>\n",
       "    <tr>\n",
       "      <th>chas</th>\n",
       "      <td>0.175260</td>\n",
       "      <td>0.175260</td>\n",
       "    </tr>\n",
       "    <tr>\n",
       "      <th>nox</th>\n",
       "      <td>-0.427321</td>\n",
       "      <td>0.427321</td>\n",
       "    </tr>\n",
       "    <tr>\n",
       "      <th>rm</th>\n",
       "      <td>0.695360</td>\n",
       "      <td>0.695360</td>\n",
       "    </tr>\n",
       "  </tbody>\n",
       "</table>\n",
       "</div>"
      ],
      "text/plain": [
       "               corr  abs_corr\n",
       "attribute                    \n",
       "crim      -0.388305  0.388305\n",
       "zn         0.360445  0.360445\n",
       "indus     -0.483725  0.483725\n",
       "chas       0.175260  0.175260\n",
       "nox       -0.427321  0.427321\n",
       "rm         0.695360  0.695360"
      ]
     },
     "execution_count": 18,
     "metadata": {},
     "output_type": "execute_result"
    }
   ],
   "source": [
    "correlaciones_medv.head(6)"
   ]
  },
  {
   "cell_type": "code",
   "execution_count": 19,
   "id": "127150cb",
   "metadata": {
    "scrolled": true
   },
   "outputs": [
    {
     "data": {
      "text/html": [
       "<div>\n",
       "<style scoped>\n",
       "    .dataframe tbody tr th:only-of-type {\n",
       "        vertical-align: middle;\n",
       "    }\n",
       "\n",
       "    .dataframe tbody tr th {\n",
       "        vertical-align: top;\n",
       "    }\n",
       "\n",
       "    .dataframe thead th {\n",
       "        text-align: right;\n",
       "    }\n",
       "</style>\n",
       "<table border=\"1\" class=\"dataframe\">\n",
       "  <thead>\n",
       "    <tr style=\"text-align: right;\">\n",
       "      <th></th>\n",
       "      <th>corr</th>\n",
       "      <th>abs_corr</th>\n",
       "    </tr>\n",
       "    <tr>\n",
       "      <th>attribute</th>\n",
       "      <th></th>\n",
       "      <th></th>\n",
       "    </tr>\n",
       "  </thead>\n",
       "  <tbody>\n",
       "    <tr>\n",
       "      <th>lstat</th>\n",
       "      <td>-0.737663</td>\n",
       "      <td>0.737663</td>\n",
       "    </tr>\n",
       "    <tr>\n",
       "      <th>rm</th>\n",
       "      <td>0.695360</td>\n",
       "      <td>0.695360</td>\n",
       "    </tr>\n",
       "    <tr>\n",
       "      <th>ptratio</th>\n",
       "      <td>-0.507787</td>\n",
       "      <td>0.507787</td>\n",
       "    </tr>\n",
       "    <tr>\n",
       "      <th>indus</th>\n",
       "      <td>-0.483725</td>\n",
       "      <td>0.483725</td>\n",
       "    </tr>\n",
       "    <tr>\n",
       "      <th>tax</th>\n",
       "      <td>-0.468536</td>\n",
       "      <td>0.468536</td>\n",
       "    </tr>\n",
       "    <tr>\n",
       "      <th>nox</th>\n",
       "      <td>-0.427321</td>\n",
       "      <td>0.427321</td>\n",
       "    </tr>\n",
       "  </tbody>\n",
       "</table>\n",
       "</div>"
      ],
      "text/plain": [
       "               corr  abs_corr\n",
       "attribute                    \n",
       "lstat     -0.737663  0.737663\n",
       "rm         0.695360  0.695360\n",
       "ptratio   -0.507787  0.507787\n",
       "indus     -0.483725  0.483725\n",
       "tax       -0.468536  0.468536\n",
       "nox       -0.427321  0.427321"
      ]
     },
     "execution_count": 19,
     "metadata": {},
     "output_type": "execute_result"
    }
   ],
   "source": [
    "correlaciones_medv.sort_values('abs_corr',ascending=False).head(6)"
   ]
  },
  {
   "cell_type": "markdown",
   "id": "d044ea1c",
   "metadata": {},
   "source": [
    "Se parecia que los atributos con mayor correlación absoluta con 'medv'son:\n",
    "\n",
    "    - lstat\n",
    "    - rm\n",
    "    - ptratio\n",
    "    - indus\n",
    "    - tax\n",
    "    - nox"
   ]
  },
  {
   "cell_type": "markdown",
   "id": "e6816383",
   "metadata": {},
   "source": [
    "_________"
   ]
  },
  {
   "cell_type": "markdown",
   "id": "32239049",
   "metadata": {},
   "source": [
    "<b><font color='MediumSeaGreen'>6.</font> Refactorización del modelo predictivo (2 puntos)</b>"
   ]
  },
  {
   "cell_type": "markdown",
   "id": "9cc33bbc",
   "metadata": {},
   "source": [
    "● Genere otros conjuntos de entrenamiento y validación en base a una matriz con\n",
    "los 6 atributos identificados en el ejercicio anterior, y el vector objetivo.\n",
    "\n",
    "● Entrene un modelo en base al mejor desempeño.\n",
    "\n",
    "● Reporte las métricas para el nuevo modelo."
   ]
  },
  {
   "cell_type": "code",
   "execution_count": 20,
   "id": "b4df8c07",
   "metadata": {},
   "outputs": [],
   "source": [
    "#De los datos obtenidos anteriormente generamos una lista con sus index para obtener sus nombres\n",
    "atributos_6 = list(correlaciones_medv.sort_values('abs_corr',ascending=False).head(6).index)"
   ]
  },
  {
   "cell_type": "code",
   "execution_count": 21,
   "id": "c55af4c7",
   "metadata": {},
   "outputs": [
    {
     "data": {
      "text/plain": [
       "['lstat', 'rm', 'ptratio', 'indus', 'tax', 'nox']"
      ]
     },
     "execution_count": 21,
     "metadata": {},
     "output_type": "execute_result"
    }
   ],
   "source": [
    "atributos_6"
   ]
  },
  {
   "cell_type": "code",
   "execution_count": 22,
   "id": "c5fc0a40",
   "metadata": {},
   "outputs": [],
   "source": [
    "#Se crea un subset con los 6 atributos \n",
    "df_var_x_6= df.loc[:, atributos_6]"
   ]
  },
  {
   "cell_type": "code",
   "execution_count": 23,
   "id": "94345d45",
   "metadata": {},
   "outputs": [],
   "source": [
    "#Se vuelve a generar nuevo conjutnop de entrenamiento y validacion para los datos entregados\n",
    "x_train_2, x_test_2, y_train_2, y_test_2 = train_test_split(df_var_x_6, df_var_y, test_size=.33,\n",
    "random_state=27)"
   ]
  },
  {
   "cell_type": "code",
   "execution_count": 24,
   "id": "266fc325",
   "metadata": {},
   "outputs": [],
   "source": [
    "modelo_refact_con_inter = linear_model.LinearRegression(fit_intercept=True)\n",
    "modelo_refact_con_inter.fit(x_train_2, y_train_2) #ingresamos el training set\n",
    "modelo_refact_con_inter_yhat = modelo_refact_con_inter.predict(x_test_2) #Para medir el desempeño predictivo del modelo es generar nuevas predicciones en nuestra muestra de prueba"
   ]
  },
  {
   "cell_type": "code",
   "execution_count": 25,
   "id": "4af2eb51",
   "metadata": {},
   "outputs": [],
   "source": [
    "modelo_refact_sin_inter = linear_model.LinearRegression(fit_intercept=False)\n",
    "modelo_refact_sin_inter.fit(x_train_2, y_train_2) #ingresamos el training set\n",
    "modelo_refact_sin_inter_yhat = modelo_refact_sin_inter.predict(x_test_2) #Para medir el desempeño predictivo del modelo es generar nuevas predicciones en nuestra muestra de prueba"
   ]
  },
  {
   "cell_type": "code",
   "execution_count": 26,
   "id": "3fec8c20",
   "metadata": {},
   "outputs": [
    {
     "name": "stdout",
     "output_type": "stream",
     "text": [
      "Mean Squared Error (mse): 29.8\n",
      "R-cuadrado: 0.66\n"
     ]
    }
   ],
   "source": [
    "#Corremos el modelo refactorizado con intercepto\n",
    "report_scores(modelo_refact_con_inter_yhat, y_test_2)"
   ]
  },
  {
   "cell_type": "code",
   "execution_count": 27,
   "id": "a8493b2a",
   "metadata": {},
   "outputs": [
    {
     "name": "stdout",
     "output_type": "stream",
     "text": [
      "Mean Squared Error (mse): 31.71\n",
      "R-cuadrado: 0.64\n"
     ]
    }
   ],
   "source": [
    "#Corremos el modelo refactorizado sin intercepto\n",
    "report_scores(modelo_refact_sin_inter_yhat, y_test_2)"
   ]
  },
  {
   "cell_type": "code",
   "execution_count": 28,
   "id": "7574d3c5",
   "metadata": {
    "scrolled": true
   },
   "outputs": [
    {
     "name": "stdout",
     "output_type": "stream",
     "text": [
      "Mean Squared Error (mse): 26.62\n",
      "R-cuadrado: 0.7\n"
     ]
    }
   ],
   "source": [
    "#Corremos el mejor modelo anteriormente (con intercepto)\n",
    "#Modelo con intercepto\n",
    "report_scores (modelo_con_intercepto_yhat, y_test)"
   ]
  },
  {
   "cell_type": "markdown",
   "id": "56252da9",
   "metadata": {},
   "source": [
    "Comparando los modelos refactorizados el que presenta un mejor resultado es el modelo con intercepto, presentando un R cuadrado de 0.66 y un mse menor.\n",
    "\n",
    "Sin embargo, al comparar el modelo refactorizado vs el mejor sin refactorizar se observa que entrega mejores resultadoes el modelo sin refactorizar con intercepto, teniendo un R cuadrado mayor y un menor error cuadratico (mse)."
   ]
  },
  {
   "cell_type": "markdown",
   "id": "effda2fb",
   "metadata": {},
   "source": [
    "_____"
   ]
  },
  {
   "cell_type": "markdown",
   "id": "680e2ff1",
   "metadata": {},
   "source": [
    "<b><font color='MediumSeaGreen'>7.</font> Predicción de casos (2 puntos)</b>: \n",
    "    A continuación se generaron dos arrays que\n",
    "representan el peor escenario posible (*worst_neighbor*) y el mejor escenario\n",
    "posible (*best_neighbor*). Las variables representan, para cada caso, los valores de\n",
    "los siguientes atributos (en el mismo orden entregado): **'lstat', 'rm',\n",
    "'ptratio', 'indus', 'tax', 'nox'.**"
   ]
  },
  {
   "cell_type": "markdown",
   "id": "ccb8a520",
   "metadata": {},
   "source": [
    "<span style='background:gainsboro'><font color='dimgray'>worst_neighbor = np.array([37.9, 12.6, 3.5, 27.7, 187, 0.87]).reshape(1,\n",
    "-1)</font></span>\n",
    "    \n",
    "    \n",
    "<span style='background:gainsboro'><font color='dimgray'>best_neighbor = np.array([1.73, 22, 8.7, 0.46, 711, 0.38]).reshape(1,\n",
    "-1)</font></span>"
   ]
  },
  {
   "cell_type": "markdown",
   "id": "5c8310e4",
   "metadata": {},
   "source": [
    "● Ingrese los arrays en el modelo entrenado en el ejercicio anterior, y reporte la predicción entregada por el modelo."
   ]
  },
  {
   "cell_type": "code",
   "execution_count": 29,
   "id": "e58cb8a5",
   "metadata": {},
   "outputs": [],
   "source": [
    "worst_neighbor = np.array([37.9, 12.6, 3.5, 27.7, 187, 0.87]).reshape(1, -1)\n",
    "best_neighbor = np.array([1.73, 22, 8.7, 0.46, 711, 0.38]).reshape(1,-1)"
   ]
  },
  {
   "cell_type": "code",
   "execution_count": 30,
   "id": "9fcf445e",
   "metadata": {
    "scrolled": false
   },
   "outputs": [
    {
     "name": "stderr",
     "output_type": "stream",
     "text": [
      "C:\\ProgramData\\Anaconda3\\envs\\rstudio\\lib\\site-packages\\sklearn\\base.py:451: UserWarning: X does not have valid feature names, but LinearRegression was fitted with feature names\n",
      "  \"X does not have valid feature names, but\"\n"
     ]
    },
    {
     "data": {
      "text/plain": [
       "array([57.98])"
      ]
     },
     "execution_count": 30,
     "metadata": {},
     "output_type": "execute_result"
    }
   ],
   "source": [
    "modelo_refact_con_inter.predict(worst_neighbor).round(2)"
   ]
  },
  {
   "cell_type": "markdown",
   "id": "1b6782e9",
   "metadata": {},
   "source": [
    "**El valor esperado para worst_neighbor con:\n",
    "el modelo refactorizado con intercepto es de 57.98**"
   ]
  },
  {
   "cell_type": "code",
   "execution_count": 31,
   "id": "904d3c68",
   "metadata": {
    "scrolled": true
   },
   "outputs": [
    {
     "name": "stderr",
     "output_type": "stream",
     "text": [
      "C:\\ProgramData\\Anaconda3\\envs\\rstudio\\lib\\site-packages\\sklearn\\base.py:451: UserWarning: X does not have valid feature names, but LinearRegression was fitted with feature names\n",
      "  \"X does not have valid feature names, but\"\n"
     ]
    },
    {
     "data": {
      "text/plain": [
       "array([62.05])"
      ]
     },
     "execution_count": 31,
     "metadata": {},
     "output_type": "execute_result"
    }
   ],
   "source": [
    "modelo_refact_sin_inter.predict(worst_neighbor).round(2)"
   ]
  },
  {
   "cell_type": "markdown",
   "id": "4ebabe96",
   "metadata": {},
   "source": [
    "**El valor esperado para worst_neighbor con:\n",
    "el modelo refactorizado sin intercepto es de 62.05**"
   ]
  },
  {
   "cell_type": "code",
   "execution_count": 32,
   "id": "cf7b8b35",
   "metadata": {
    "scrolled": true
   },
   "outputs": [
    {
     "name": "stderr",
     "output_type": "stream",
     "text": [
      "C:\\ProgramData\\Anaconda3\\envs\\rstudio\\lib\\site-packages\\sklearn\\base.py:451: UserWarning: X does not have valid feature names, but LinearRegression was fitted with feature names\n",
      "  \"X does not have valid feature names, but\"\n"
     ]
    },
    {
     "data": {
      "text/plain": [
       "array([117.91])"
      ]
     },
     "execution_count": 32,
     "metadata": {},
     "output_type": "execute_result"
    }
   ],
   "source": [
    "modelo_refact_con_inter.predict(best_neighbor).round(2)"
   ]
  },
  {
   "cell_type": "markdown",
   "id": "319a13cc",
   "metadata": {},
   "source": [
    "**El valor esperado para best_neighbor con:\n",
    "el modelo refactorizado con intercepto es de 117.91**"
   ]
  },
  {
   "cell_type": "code",
   "execution_count": 33,
   "id": "d8e4cbd0",
   "metadata": {
    "scrolled": true
   },
   "outputs": [
    {
     "name": "stderr",
     "output_type": "stream",
     "text": [
      "C:\\ProgramData\\Anaconda3\\envs\\rstudio\\lib\\site-packages\\sklearn\\base.py:451: UserWarning: X does not have valid feature names, but LinearRegression was fitted with feature names\n",
      "  \"X does not have valid feature names, but\"\n"
     ]
    },
    {
     "data": {
      "text/plain": [
       "array([128.57])"
      ]
     },
     "execution_count": 33,
     "metadata": {},
     "output_type": "execute_result"
    }
   ],
   "source": [
    "modelo_refact_sin_inter.predict(best_neighbor).round(2)"
   ]
  },
  {
   "cell_type": "markdown",
   "id": "1d2845c1",
   "metadata": {},
   "source": [
    "**El valor esperado para best_neighbor con:\n",
    "el modelo refactorizado sin intercepto es de 128.57**"
   ]
  },
  {
   "cell_type": "markdown",
   "id": "1d1c1910",
   "metadata": {},
   "source": [
    "________"
   ]
  }
 ],
 "metadata": {
  "kernelspec": {
   "display_name": "Python 3",
   "language": "python",
   "name": "python3"
  },
  "language_info": {
   "codemirror_mode": {
    "name": "ipython",
    "version": 3
   },
   "file_extension": ".py",
   "mimetype": "text/x-python",
   "name": "python",
   "nbconvert_exporter": "python",
   "pygments_lexer": "ipython3",
   "version": "3.7.1"
  }
 },
 "nbformat": 4,
 "nbformat_minor": 5
}
